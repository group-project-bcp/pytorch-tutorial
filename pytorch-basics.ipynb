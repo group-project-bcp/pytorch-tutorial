{
 "cells": [
  {
   "cell_type": "markdown",
   "metadata": {},
   "source": [
    "# Pytorch Basics\n"
   ]
  },
  {
   "cell_type": "markdown",
   "metadata": {},
   "source": [
    "## 1. Tensors\n",
    "\n",
    "Everything in PyTorch is based on Tensor operations. A Tensor is a multi-dimensional matrix containing elements of a single data type.\n"
   ]
  },
  {
   "cell_type": "markdown",
   "metadata": {},
   "source": [
    "### Initialization\n"
   ]
  },
  {
   "cell_type": "code",
   "execution_count": 46,
   "metadata": {},
   "outputs": [
    {
     "name": "stdout",
     "output_type": "stream",
     "text": [
      "zeros(2, 2): tensor([[0., 0.],\n",
      "        [0., 0.]])\n",
      "ones(2, 2): tensor([[1., 1.],\n",
      "        [1., 1.]])\n",
      "rand(2, 2): tensor([[0.3879, 0.7858],\n",
      "        [0.7555, 0.2765]])\n",
      "from data: tensor([20.5000, 17.5000,  0.0500])\n"
     ]
    }
   ],
   "source": [
    "# zeros\n",
    "x = torch.zeros(2, 2)\n",
    "print(\"zeros(2, 2):\", x)\n",
    "\n",
    "# ones\n",
    "x = torch.ones(2, 2)\n",
    "print(\"ones(2, 2):\", x)\n",
    "\n",
    "# random\n",
    "x = torch.rand(2, 2)\n",
    "print(\"rand(2, 2):\", x)\n",
    "\n",
    "# from data\n",
    "x = torch.tensor([20.5, 17.5, 0.05])\n",
    "print(\"from data:\", x)"
   ]
  },
  {
   "cell_type": "code",
   "execution_count": 47,
   "metadata": {},
   "outputs": [
    {
     "name": "stdout",
     "output_type": "stream",
     "text": [
      "size: torch.Size([3])\n",
      "dtype: torch.float32\n",
      "from data with data type: tensor([1, 2, 3])\n",
      "dtype: torch.int64\n"
     ]
    }
   ],
   "source": [
    "# size\n",
    "print(\"size:\", x.size())\n",
    "\n",
    "# data type\n",
    "print(\"dtype:\", x.dtype)\n",
    "\n",
    "# from data with data type\n",
    "x = torch.tensor([1.7, 2.1, 3.5], dtype=torch.int64)\n",
    "print(\"from data with data type:\", x)\n",
    "print(\"dtype:\", x.dtype)"
   ]
  },
  {
   "cell_type": "markdown",
   "metadata": {},
   "source": [
    "### Operations\n"
   ]
  },
  {
   "cell_type": "code",
   "execution_count": 48,
   "metadata": {},
   "outputs": [
    {
     "name": "stdout",
     "output_type": "stream",
     "text": [
      "add: tensor([[5, 5],\n",
      "        [5, 5]])\n",
      "in-place add: tensor([[5, 5],\n",
      "        [5, 5]])\n"
     ]
    }
   ],
   "source": [
    "# normal addition\n",
    "\n",
    "x = torch.tensor([[1, 2], [3, 4]])\n",
    "y = torch.tensor([[4, 3], [2, 1]])\n",
    "z = x + y\n",
    "print(\"add:\", z)\n",
    "\n",
    "# alternative\n",
    "# torch.add(x, y)\n",
    "\n",
    "# in-place addition\n",
    "\n",
    "x = torch.tensor([[1, 2], [3, 4]])\n",
    "y = torch.tensor([[4, 3], [2, 1]])\n",
    "y += x\n",
    "print(\"in-place add:\", y)\n",
    "\n",
    "# alternative\n",
    "# y.add_(x)"
   ]
  },
  {
   "cell_type": "code",
   "execution_count": 49,
   "metadata": {},
   "outputs": [
    {
     "name": "stdout",
     "output_type": "stream",
     "text": [
      "sub: tensor([[ 2,  6],\n",
      "        [14, 30]])\n",
      "mul: tensor([[ 8, 16],\n",
      "        [32, 64]])\n",
      "div: tensor([[ 2.,  4.],\n",
      "        [ 8., 16.]])\n"
     ]
    }
   ],
   "source": [
    "x = torch.tensor([[4, 8], [16, 32]])\n",
    "y = torch.tensor([[2, 2], [2, 2]])\n",
    "\n",
    "z = x - y\n",
    "print(\"sub:\", z)\n",
    "\n",
    "z = x * y\n",
    "print(\"mul:\", z)\n",
    "\n",
    "z = x / y\n",
    "print(\"div:\", z)"
   ]
  },
  {
   "cell_type": "code",
   "execution_count": 50,
   "metadata": {},
   "outputs": [
    {
     "name": "stdout",
     "output_type": "stream",
     "text": [
      "tensor([[0.1876, 0.9638, 0.1817, 0.6573, 0.0923],\n",
      "        [0.6746, 0.2436, 0.1498, 0.7393, 0.1502],\n",
      "        [0.0330, 0.9622, 0.2336, 0.4310, 0.7919]])\n",
      "x[:, 0] tensor([0.1876, 0.6746, 0.0330])\n",
      "x[1, :] tensor([0.6746, 0.2436, 0.1498, 0.7393, 0.1502])\n",
      "x[1, 1] tensor(0.2436)\n",
      "x[1,1].item() 0.24363571405410767\n"
     ]
    }
   ],
   "source": [
    "# slicing\n",
    "\n",
    "x = torch.rand(3, 5)\n",
    "print(x)\n",
    "\n",
    "print(\"x[:, 0]\", x[:, 0])  # all rows, column 0\n",
    "print(\"x[1, :]\", x[1, :])  # row 1, all columns\n",
    "print(\"x[1, 1]\", x[1, 1])  # element at 1, 1\n",
    "\n",
    "# Get the actual value if only 1 element in your tensor\n",
    "print(\"x[1,1].item()\", x[1, 1].item())"
   ]
  },
  {
   "cell_type": "code",
   "execution_count": 51,
   "metadata": {},
   "outputs": [
    {
     "name": "stdout",
     "output_type": "stream",
     "text": [
      "x: tensor([[0.5934, 0.9917, 0.7668, 0.2881],\n",
      "        [0.6624, 0.0939, 0.5877, 0.3982],\n",
      "        [0.3501, 0.2492, 0.5113, 0.1447],\n",
      "        [0.3133, 0.6870, 0.5214, 0.2382]])\n",
      "y: tensor([0.5934, 0.9917, 0.7668, 0.2881, 0.6624, 0.0939, 0.5877, 0.3982, 0.3501,\n",
      "        0.2492, 0.5113, 0.1447, 0.3133, 0.6870, 0.5214, 0.2382])\n",
      "z: tensor([[0.5934, 0.9917, 0.7668, 0.2881, 0.6624, 0.0939, 0.5877, 0.3982],\n",
      "        [0.3501, 0.2492, 0.5113, 0.1447, 0.3133, 0.6870, 0.5214, 0.2382]])\n",
      "x.size(): torch.Size([4, 4])\n",
      "y.size(): torch.Size([16])\n",
      "z.size(): torch.Size([2, 8])\n"
     ]
    }
   ],
   "source": [
    "# reshaping\n",
    "\n",
    "# 4x4 tensor\n",
    "x = torch.rand(4, 4)\n",
    "\n",
    "# reshape to 1x16 tensor\n",
    "y = x.view(16)\n",
    "\n",
    "# reshape to 2x8 tensor (the size -1 is automatically inferred from other dimensions)\n",
    "z = x.view(-1, 8)\n",
    "\n",
    "print(\"x:\", x)\n",
    "print(\"y:\", y)\n",
    "print(\"z:\", z)\n",
    "\n",
    "print(\"x.size():\", x.size())\n",
    "print(\"y.size():\", y.size())\n",
    "print(\"z.size():\", z.size())"
   ]
  },
  {
   "cell_type": "markdown",
   "metadata": {},
   "source": [
    "### NumPy\n"
   ]
  },
  {
   "cell_type": "code",
   "execution_count": 52,
   "metadata": {},
   "outputs": [
    {
     "name": "stdout",
     "output_type": "stream",
     "text": [
      "tensor([1., 1., 1., 1., 1.])\n",
      "<class 'torch.Tensor'>\n",
      "[1. 1. 1. 1. 1.]\n",
      "<class 'numpy.ndarray'>\n",
      "tensor([2., 2., 2., 2., 2.])\n",
      "[2. 2. 2. 2. 2.]\n"
     ]
    }
   ],
   "source": [
    "# convert tensor to numpy array\n",
    "\n",
    "a = torch.ones(5)\n",
    "print(a)\n",
    "print(type(a))\n",
    "\n",
    "b = a.numpy()\n",
    "print(b)\n",
    "print(type(b))\n",
    "\n",
    "# !!! IMPORTANT !!!\n",
    "# If the Tensor is on the CPU (not the GPU), both objects will share\n",
    "# the same memory location, so changing one will also change the other.\n",
    "\n",
    "a.add_(1)\n",
    "print(a)\n",
    "print(b)"
   ]
  },
  {
   "cell_type": "code",
   "execution_count": 53,
   "metadata": {},
   "outputs": [
    {
     "name": "stdout",
     "output_type": "stream",
     "text": [
      "[1. 1. 1. 1. 1.]\n",
      "<class 'numpy.ndarray'>\n",
      "tensor([1., 1., 1., 1., 1.], dtype=torch.float64)\n",
      "<class 'torch.Tensor'>\n",
      "tensor([1., 1., 1., 1., 1.], dtype=torch.float64)\n",
      "<class 'torch.Tensor'>\n",
      "[2. 2. 2. 2. 2.]\n",
      "tensor([2., 2., 2., 2., 2.], dtype=torch.float64)\n",
      "tensor([1., 1., 1., 1., 1.], dtype=torch.float64)\n"
     ]
    }
   ],
   "source": [
    "# convert numpy to tensor array\n",
    "\n",
    "import numpy as np\n",
    "\n",
    "a = np.ones(5)\n",
    "print(a)\n",
    "print(type(a))\n",
    "\n",
    "b = torch.from_numpy(a)\n",
    "print(b)\n",
    "print(type(b))\n",
    "\n",
    "c = torch.tensor(a)\n",
    "print(c)\n",
    "print(type(c))\n",
    "\n",
    "# !!! IMPORTANT !!!\n",
    "# Both 'b' and 'c' are now PyTorch tensors, but 'b' shares the same underlying data with 'a'.\n",
    "# Modifying 'a' will also affect 'b' due to the shared data.\n",
    "\n",
    "a += 1\n",
    "print(a)\n",
    "print(b)\n",
    "print(c)"
   ]
  },
  {
   "cell_type": "markdown",
   "metadata": {},
   "source": [
    "### GPU Support\n",
    "\n",
    "By default all tensors are created on the CPU. But we can also move them to the GPU (if it's available), or create them directly on the GPU.\n"
   ]
  },
  {
   "cell_type": "code",
   "execution_count": 60,
   "metadata": {},
   "outputs": [
    {
     "data": {
      "text/plain": [
       "tensor([[0.4632, 0.1731],\n",
       "        [0.2428, 0.2674]])"
      ]
     },
     "execution_count": 60,
     "metadata": {},
     "output_type": "execute_result"
    }
   ],
   "source": [
    "device = torch.device('cuda' if torch.cuda.is_available() else 'cpu')\n",
    "\n",
    "# move to device\n",
    "x = torch.rand(2, 2).to(device)\n",
    "\n",
    "# directly create on device\n",
    "y = torch.rand(2, 2, device=device)\n",
    "\n",
    "z = torch.rand(2, 2)\n",
    "# move to GPU\n",
    "z.to(\"cuda\")\n",
    "# move to CPU\n",
    "z.to(\"cpu\")"
   ]
  }
 ],
 "metadata": {
  "kernelspec": {
   "display_name": "Python 3",
   "language": "python",
   "name": "python3"
  },
  "language_info": {
   "codemirror_mode": {
    "name": "ipython",
    "version": 3
   },
   "file_extension": ".py",
   "mimetype": "text/x-python",
   "name": "python",
   "nbconvert_exporter": "python",
   "pygments_lexer": "ipython3",
   "version": "3.11.3"
  }
 },
 "nbformat": 4,
 "nbformat_minor": 2
}
